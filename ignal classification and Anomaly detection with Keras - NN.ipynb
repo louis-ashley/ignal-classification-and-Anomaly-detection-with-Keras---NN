{
 "cells": [
  {
   "cell_type": "markdown",
   "metadata": {
    "papermill": {
     "duration": 0.034735,
     "end_time": "2020-10-20T17:31:59.734502",
     "exception": false,
     "start_time": "2020-10-20T17:31:59.699767",
     "status": "completed"
    },
    "tags": []
   },
   "source": [
    "# Using Neural Networks to classify signals in 8 categories  "
   ]
  },
  {
   "cell_type": "markdown",
   "metadata": {
    "papermill": {
     "duration": 0.030816,
     "end_time": "2020-10-20T17:31:59.796850",
     "exception": false,
     "start_time": "2020-10-20T17:31:59.766034",
     "status": "completed"
    },
    "tags": []
   },
   "source": [
    "## The purpose of this notebook is to show how to use Neural networks to classify physical - signals, it can be used to detect signal presenting anomalies."
   ]
  },
  {
   "cell_type": "markdown",
   "metadata": {
    "papermill": {
     "duration": 0.031013,
     "end_time": "2020-10-20T17:31:59.858951",
     "exception": false,
     "start_time": "2020-10-20T17:31:59.827938",
     "status": "completed"
    },
    "tags": []
   },
   "source": [
    "# Subject: \n"
   ]
  },
  {
   "cell_type": "markdown",
   "metadata": {
    "papermill": {
     "duration": 0.030583,
     "end_time": "2020-10-20T17:31:59.920657",
     "exception": false,
     "start_time": "2020-10-20T17:31:59.890074",
     "status": "completed"
    },
    "tags": []
   },
   "source": [
    "## 8 databases of signals will be created, in 8 categories. A NN will be use to classify any new signal in the good category regarding the training.\n",
    "The databes are declined in 4 supposed nominal signals and 4 supposed anomaly signals, it is to give a clue on how to use this kind of application to detect anomaly detection**"
   ]
  },
  {
   "cell_type": "markdown",
   "metadata": {
    "papermill": {
     "duration": 0.030708,
     "end_time": "2020-10-20T17:31:59.982380",
     "exception": false,
     "start_time": "2020-10-20T17:31:59.951672",
     "status": "completed"
    },
    "tags": []
   },
   "source": [
    " # The notebook is presented as followed: \n",
    " \n",
    "* Creation of a main fonction to create all of the signals\n",
    "* Tuto to export the function to csv format\n",
    "* Tuto to import back the function from csv format\n",
    "* Librairies import\n",
    "* Creation of 8 databases of signals with 4 considered as normal signals and 4 as anomaly\n",
    "* Display of one signal of every category\n",
    "* Labelisation of the signals\n",
    "* Data reshaping for NN compatibility\n",
    "* Neural Network / model creation with keras\n",
    "* Visualisation of this NN architecture and its training + parameter choices\n",
    "* Application on an example\n",
    "* Application of the trained NN on new signal to see if it classified it into the good category\n",
    "* Conlusion\n",
    "\n",
    "As i am begining with Kaggle notebooks, any recommandations, questions, comments, limits highlights and upvote will be very welcome!\n",
    "\n",
    "\n"
   ]
  },
  {
   "cell_type": "code",
   "execution_count": 1,
   "metadata": {
    "execution": {
     "iopub.execute_input": "2020-10-20T17:32:00.051330Z",
     "iopub.status.busy": "2020-10-20T17:32:00.050502Z",
     "iopub.status.idle": "2020-10-20T17:32:00.054499Z",
     "shell.execute_reply": "2020-10-20T17:32:00.053615Z"
    },
    "papermill": {
     "duration": 0.041249,
     "end_time": "2020-10-20T17:32:00.054692",
     "exception": false,
     "start_time": "2020-10-20T17:32:00.013443",
     "status": "completed"
    },
    "tags": []
   },
   "outputs": [],
   "source": [
    "import numpy as np\n",
    "import matplotlib.pyplot as plt\n",
    "import csv\n"
   ]
  },
  {
   "cell_type": "markdown",
   "metadata": {
    "papermill": {
     "duration": 0.032124,
     "end_time": "2020-10-20T17:32:00.119795",
     "exception": false,
     "start_time": "2020-10-20T17:32:00.087671",
     "status": "completed"
    },
    "tags": []
   },
   "source": [
    "# Creation of a main fonction to create all of the signals"
   ]
  },
  {
   "cell_type": "code",
   "execution_count": 2,
   "metadata": {
    "execution": {
     "iopub.execute_input": "2020-10-20T17:32:00.201599Z",
     "iopub.status.busy": "2020-10-20T17:32:00.200441Z",
     "iopub.status.idle": "2020-10-20T17:32:00.230733Z",
     "shell.execute_reply": "2020-10-20T17:32:00.229896Z"
    },
    "papermill": {
     "duration": 0.078864,
     "end_time": "2020-10-20T17:32:00.230879",
     "exception": false,
     "start_time": "2020-10-20T17:32:00.152015",
     "status": "completed"
    },
    "tags": []
   },
   "outputs": [],
   "source": [
    "file_name = \"Example1.csv\"\n",
    "DataInput = []\n",
    "IndexMax = 10000\n",
    "f = lambda x: 3*np.sin(3*x/IndexMax*2*np.pi)\n",
    "\n",
    "for i in range(IndexMax) :\n",
    "    DataInput.append(f(i))"
   ]
  },
  {
   "cell_type": "markdown",
   "metadata": {
    "papermill": {
     "duration": 0.031129,
     "end_time": "2020-10-20T17:32:00.295066",
     "exception": false,
     "start_time": "2020-10-20T17:32:00.263937",
     "status": "completed"
    },
    "tags": []
   },
   "source": [
    "# Export the function to csv format"
   ]
  },
  {
   "cell_type": "code",
   "execution_count": 3,
   "metadata": {
    "execution": {
     "iopub.execute_input": "2020-10-20T17:32:00.383480Z",
     "iopub.status.busy": "2020-10-20T17:32:00.382624Z",
     "iopub.status.idle": "2020-10-20T17:32:00.386737Z",
     "shell.execute_reply": "2020-10-20T17:32:00.387317Z"
    },
    "papermill": {
     "duration": 0.060851,
     "end_time": "2020-10-20T17:32:00.387485",
     "exception": false,
     "start_time": "2020-10-20T17:32:00.326634",
     "status": "completed"
    },
    "tags": []
   },
   "outputs": [],
   "source": [
    "# Export of the fonction in a folder \n",
    "out_file = open(file_name, 'w', newline='')\n",
    "wrt = csv.writer(out_file)\n",
    "wrt.writerow(DataInput)\n",
    "out_file.close()\n"
   ]
  },
  {
   "cell_type": "markdown",
   "metadata": {
    "papermill": {
     "duration": 0.031523,
     "end_time": "2020-10-20T17:32:00.450923",
     "exception": false,
     "start_time": "2020-10-20T17:32:00.419400",
     "status": "completed"
    },
    "tags": []
   },
   "source": [
    "#  Import back the function from csv format"
   ]
  },
  {
   "cell_type": "code",
   "execution_count": 4,
   "metadata": {
    "execution": {
     "iopub.execute_input": "2020-10-20T17:32:00.521351Z",
     "iopub.status.busy": "2020-10-20T17:32:00.520609Z",
     "iopub.status.idle": "2020-10-20T17:32:00.537830Z",
     "shell.execute_reply": "2020-10-20T17:32:00.537049Z"
    },
    "papermill": {
     "duration": 0.055311,
     "end_time": "2020-10-20T17:32:00.537966",
     "exception": false,
     "start_time": "2020-10-20T17:32:00.482655",
     "status": "completed"
    },
    "tags": []
   },
   "outputs": [],
   "source": [
    "\n",
    "# Re-importation of the fonction and draw of it\n",
    "in_file = open(file_name, 'r')\n",
    "reader = list(csv.reader(in_file, quoting=csv.QUOTE_NONNUMERIC))\n",
    "DataInput = reader[0]\n",
    "in_file.close()"
   ]
  },
  {
   "cell_type": "markdown",
   "metadata": {
    "papermill": {
     "duration": 0.031241,
     "end_time": "2020-10-20T17:32:00.601400",
     "exception": false,
     "start_time": "2020-10-20T17:32:00.570159",
     "status": "completed"
    },
    "tags": []
   },
   "source": [
    "# Plot of the function "
   ]
  },
  {
   "cell_type": "code",
   "execution_count": 5,
   "metadata": {
    "execution": {
     "iopub.execute_input": "2020-10-20T17:32:00.671333Z",
     "iopub.status.busy": "2020-10-20T17:32:00.670592Z",
     "iopub.status.idle": "2020-10-20T17:32:00.914284Z",
     "shell.execute_reply": "2020-10-20T17:32:00.914924Z"
    },
    "papermill": {
     "duration": 0.281886,
     "end_time": "2020-10-20T17:32:00.915111",
     "exception": false,
     "start_time": "2020-10-20T17:32:00.633225",
     "status": "completed"
    },
    "tags": []
   },
   "outputs": [
    {
     "data": {
      "image/png": "[encoded data removed]",
      "text/plain": [
       "<Figure size 432x288 with 1 Axes>"
      ]
     },
     "metadata": {
      "needs_background": "light"
     },
     "output_type": "display_data"
    }
   ],
   "source": [
    "plt.plot(DataInput)\n",
    "plt.show()"
   ]
  },
  {
   "cell_type": "markdown",
   "metadata": {
    "papermill": {
     "duration": 0.033676,
     "end_time": "2020-10-20T17:32:00.983006",
     "exception": false,
     "start_time": "2020-10-20T17:32:00.949330",
     "status": "completed"
    },
    "tags": []
   },
   "source": [
    "# Librairies import"
   ]
  },
  {
   "cell_type": "code",
   "execution_count": 6,
   "metadata": {
    "execution": {
     "iopub.execute_input": "2020-10-20T17:32:01.059313Z",
     "iopub.status.busy": "2020-10-20T17:32:01.058457Z",
     "iopub.status.idle": "2020-10-20T17:32:08.941120Z",
     "shell.execute_reply": "2020-10-20T17:32:08.940300Z"
    },
    "papermill": {
     "duration": 7.923791,
     "end_time": "2020-10-20T17:32:08.941271",
     "exception": false,
     "start_time": "2020-10-20T17:32:01.017480",
     "status": "completed"
    },
    "tags": []
   },
   "outputs": [],
   "source": [
    "# LSTM pour une variable simple\n",
    "from numpy import array\n",
    "import math\n",
    "import random\n",
    "import matplotlib.pyplot as plt\n",
    "import csv\n",
    "import numpy as np\n",
    "from keras.models import Sequential\n",
    "from keras.layers import Flatten\n",
    "from keras.layers import Dense"
   ]
  },
  {
   "cell_type": "markdown",
   "metadata": {
    "papermill": {
     "duration": 0.033051,
     "end_time": "2020-10-20T17:32:09.008457",
     "exception": false,
     "start_time": "2020-10-20T17:32:08.975406",
     "status": "completed"
    },
    "tags": []
   },
   "source": [
    "# Creation of databases that will be usefull later in the programme"
   ]
  },
  {
   "cell_type": "code",
   "execution_count": 7,
   "metadata": {
    "execution": {
     "iopub.execute_input": "2020-10-20T17:32:09.084823Z",
     "iopub.status.busy": "2020-10-20T17:32:09.083748Z",
     "iopub.status.idle": "2020-10-20T17:32:09.088400Z",
     "shell.execute_reply": "2020-10-20T17:32:09.087619Z"
    },
    "papermill": {
     "duration": 0.046668,
     "end_time": "2020-10-20T17:32:09.088565",
     "exception": false,
     "start_time": "2020-10-20T17:32:09.041897",
     "status": "completed"
    },
    "tags": []
   },
   "outputs": [],
   "source": [
    "n_steps = 1 # number of neurones for the NN\n",
    "n_features = 1 # reshape value \n",
    "\n",
    "file_name = \"Example1.csv\"\n",
    "\n",
    "Data_output=np.zeros([10000,1]) # Initialisation of databases for further using\n",
    "BDDtrain=np.zeros([2000,10000])\n",
    "BDDytarget=np.zeros([2000,8])\n",
    "\n"
   ]
  },
  {
   "cell_type": "markdown",
   "metadata": {
    "papermill": {
     "duration": 0.034145,
     "end_time": "2020-10-20T17:32:09.157302",
     "exception": false,
     "start_time": "2020-10-20T17:32:09.123157",
     "status": "completed"
    },
    "tags": []
   },
   "source": [
    "# Creation of 8 databases of signals with 4 considered as normal signals and 4 as anomaly"
   ]
  },
  {
   "cell_type": "markdown",
   "metadata": {
    "papermill": {
     "duration": 0.037285,
     "end_time": "2020-10-20T17:32:09.229444",
     "exception": false,
     "start_time": "2020-10-20T17:32:09.192159",
     "status": "completed"
    },
    "tags": []
   },
   "source": [
    "1. The 4 nominal/ normal signals : "
   ]
  },
  {
   "cell_type": "code",
   "execution_count": 8,
   "metadata": {
    "execution": {
     "iopub.execute_input": "2020-10-20T17:32:09.317240Z",
     "iopub.status.busy": "2020-10-20T17:32:09.312137Z",
     "iopub.status.idle": "2020-10-20T17:32:16.419741Z",
     "shell.execute_reply": "2020-10-20T17:32:16.418930Z"
    },
    "papermill": {
     "duration": 7.156524,
     "end_time": "2020-10-20T17:32:16.419886",
     "exception": false,
     "start_time": "2020-10-20T17:32:09.263362",
     "status": "completed"
    },
    "tags": []
   },
   "outputs": [],
   "source": [
    "#BDD des differents cas nominaux :\n",
    "\n",
    "for i in range(250):               #Loop for the first 1000 nominal cases - category 1\n",
    "    for j in range (10000):\n",
    "        BDDtrain[i,j] = DataInput[j] + random.random()\n",
    "\n",
    "for i in range(250):               #Loop for the  1000 nominal cases - category 2\n",
    "    for j in range (10000):\n",
    "        BDDtrain[i + 250 ,j] = 1.25 * DataInput[j] + random.random()\n",
    "\n",
    "for i in range(250):               #Loop for the  1000 nominal cases - category 3\n",
    "    for j in range (10000):\n",
    "        BDDtrain[i + 500 ,j] = 2 * DataInput[j] + random.random()\n",
    "\n",
    "for i in range(250):               #Loop for the  1000 nominal cases - category 4\n",
    "    for j in range (10000):\n",
    "        BDDtrain[i + 750 ,j] =  DataInput[j]\n"
   ]
  },
  {
   "cell_type": "markdown",
   "metadata": {
    "papermill": {
     "duration": 0.033215,
     "end_time": "2020-10-20T17:32:16.487835",
     "exception": false,
     "start_time": "2020-10-20T17:32:16.454620",
     "status": "completed"
    },
    "tags": []
   },
   "source": [
    "2. The 4 Anomaly categories"
   ]
  },
  {
   "cell_type": "code",
   "execution_count": 9,
   "metadata": {
    "execution": {
     "iopub.execute_input": "2020-10-20T17:32:16.571086Z",
     "iopub.status.busy": "2020-10-20T17:32:16.565636Z",
     "iopub.status.idle": "2020-10-20T17:32:24.383974Z",
     "shell.execute_reply": "2020-10-20T17:32:24.384637Z"
    },
    "papermill": {
     "duration": 7.862612,
     "end_time": "2020-10-20T17:32:24.384867",
     "exception": false,
     "start_time": "2020-10-20T17:32:16.522255",
     "status": "completed"
    },
    "tags": []
   },
   "outputs": [],
   "source": [
    "##BDD d'anomalies :\n",
    "for i in range(250):               #Loop for the  1000 Anomaly cases - category 1\n",
    "    for j in range (10000):\n",
    "        BDDtrain[i + 1000, j] =   DataInput[j] + (random.random()*10)\n",
    "\n",
    "for i in range(250):               #Loop for the  1000 Anomaly cases - category 2\n",
    "    for j in range (10000):\n",
    "        BDDtrain[i + 1250, j] =   math.cos(j/500)\n",
    "\n",
    "for i in range(250):               #Loop for the  1000 Anomaly cases - category 3\n",
    "    for j in range (10000):\n",
    "        BDDtrain[i + 1500, j] =   (DataInput[j]/10) + random.random()\n",
    "\n",
    "for i in range(250):               #Loop for the  1000 Anomaly cases - category 4\n",
    "    for j in range (10000):\n",
    "        if j <= 2500:\n",
    "            BDDtrain[i + 1750, j] = 0\n",
    "        else:\n",
    "            BDDtrain[i + 1750, j] = DataInput[j] + random.random()\n"
   ]
  },
  {
   "cell_type": "markdown",
   "metadata": {
    "papermill": {
     "duration": 0.033625,
     "end_time": "2020-10-20T17:32:24.452951",
     "exception": false,
     "start_time": "2020-10-20T17:32:24.419326",
     "status": "completed"
    },
    "tags": []
   },
   "source": [
    "Creation of a fonction to reshape the databases"
   ]
  },
  {
   "cell_type": "code",
   "execution_count": 10,
   "metadata": {
    "execution": {
     "iopub.execute_input": "2020-10-20T17:32:24.534972Z",
     "iopub.status.busy": "2020-10-20T17:32:24.533909Z",
     "iopub.status.idle": "2020-10-20T17:32:24.538378Z",
     "shell.execute_reply": "2020-10-20T17:32:24.537673Z"
    },
    "papermill": {
     "duration": 0.049579,
     "end_time": "2020-10-20T17:32:24.538553",
     "exception": false,
     "start_time": "2020-10-20T17:32:24.488974",
     "status": "completed"
    },
    "tags": []
   },
   "outputs": [],
   "source": [
    "# Transform inputs in under-series of n_steps size\n",
    "def shape_data(sequence):\n",
    "\n",
    "    X, y = list(), list()                                         # create into new list\n",
    "    seq_x = sequence[0:len(sequence)]\n",
    "    X.append(seq_x)                         #append x and y during the process\n",
    "    #for i in range (len(sequence)):\n",
    "    seq_y = 0\n",
    "    y.append(seq_y)\n",
    "    seq_y =1\n",
    "    y.append(seq_y)\n",
    "\n",
    "    return array(X), array(y)   # return the new shape inputs"
   ]
  },
  {
   "cell_type": "markdown",
   "metadata": {
    "papermill": {
     "duration": 0.033872,
     "end_time": "2020-10-20T17:32:24.607039",
     "exception": false,
     "start_time": "2020-10-20T17:32:24.573167",
     "status": "completed"
    },
    "tags": []
   },
   "source": [
    "# Display of one signal of every category"
   ]
  },
  {
   "cell_type": "code",
   "execution_count": 11,
   "metadata": {
    "execution": {
     "iopub.execute_input": "2020-10-20T17:32:24.699160Z",
     "iopub.status.busy": "2020-10-20T17:32:24.692295Z",
     "iopub.status.idle": "2020-10-20T17:32:25.862282Z",
     "shell.execute_reply": "2020-10-20T17:32:25.862894Z"
    },
    "papermill": {
     "duration": 1.221726,
     "end_time": "2020-10-20T17:32:25.863097",
     "exception": false,
     "start_time": "2020-10-20T17:32:24.641371",
     "status": "completed"
    },
    "tags": []
   },
   "outputs": [
    {
     "data": {
      "image/png": "[encoded data removed]",
      "text/plain": [
       "<Figure size 432x288 with 4 Axes>"
      ]
     },
     "metadata": {
      "needs_background": "light"
     },
     "output_type": "display_data"
    },
    {
     "data": {
      "image/png": "[encoded data removed]",
      "text/plain": [
       "<Figure size 432x288 with 4 Axes>"
      ]
     },
     "metadata": {
      "needs_background": "light"
     },
     "output_type": "display_data"
    }
   ],
   "source": [
    "#Display of the 4 kinds of nominal types and the 4 types of anomaly 4.\n",
    "\n",
    "\n",
    "plt.subplot(2, 2, 1)\n",
    "plt.title('Nominal type 1');\n",
    "plt.plot(BDDtrain[200,:])\n",
    "\n",
    "#plt.show()\n",
    "plt.subplot(2, 2, 2)\n",
    "plt.title('Nominal type 2');\n",
    "plt.plot(BDDtrain[400,:])\n",
    "#plt.show()\n",
    "plt.subplot(2, 2, 3)\n",
    "plt.xlabel('Nominal type 3');\n",
    "plt.plot(BDDtrain[600,:])\n",
    "#plt.show()\n",
    "plt.subplot(2, 2, 4)\n",
    "plt.xlabel('Nominal type 4');\n",
    "plt.plot(BDDtrain[800,:])\n",
    "plt.show()\n",
    "\n",
    "\n",
    "\n",
    "\n",
    "#display of the 4 anomalies\n",
    "plt.subplot(2, 2, 1)\n",
    "plt.title('Anomaly 1');\n",
    "plt.plot(BDDtrain[1200,:])\n",
    "\n",
    "#plt.show()\n",
    "plt.subplot(2, 2, 2)\n",
    "plt.title('Anomaly 2');\n",
    "plt.plot(BDDtrain[1400,:])\n",
    "#plt.show()\n",
    "plt.subplot(2, 2, 3)\n",
    "plt.xlabel('Anomaly 3');\n",
    "plt.plot(BDDtrain[1600,:])\n",
    "#plt.show()\n",
    "plt.subplot(2, 2, 4)\n",
    "plt.xlabel('Anomaly 4');\n",
    "plt.plot(BDDtrain[1800,:])\n",
    "plt.show()"
   ]
  },
  {
   "cell_type": "markdown",
   "metadata": {
    "papermill": {
     "duration": 0.036019,
     "end_time": "2020-10-20T17:32:25.936516",
     "exception": false,
     "start_time": "2020-10-20T17:32:25.900497",
     "status": "completed"
    },
    "tags": []
   },
   "source": [
    "# labelisation of the signals"
   ]
  },
  {
   "cell_type": "markdown",
   "metadata": {
    "papermill": {
     "duration": 0.035979,
     "end_time": "2020-10-20T17:32:26.008984",
     "exception": false,
     "start_time": "2020-10-20T17:32:25.973005",
     "status": "completed"
    },
    "tags": []
   },
   "source": [
    "the label is coded in a 8 values vector, a 1 is set on the good category and 0 for all other values."
   ]
  },
  {
   "cell_type": "code",
   "execution_count": 12,
   "metadata": {
    "execution": {
     "iopub.execute_input": "2020-10-20T17:32:26.099186Z",
     "iopub.status.busy": "2020-10-20T17:32:26.098117Z",
     "iopub.status.idle": "2020-10-20T17:32:26.102388Z",
     "shell.execute_reply": "2020-10-20T17:32:26.101726Z"
    },
    "papermill": {
     "duration": 0.056941,
     "end_time": "2020-10-20T17:32:26.102568",
     "exception": false,
     "start_time": "2020-10-20T17:32:26.045627",
     "status": "completed"
    },
    "tags": []
   },
   "outputs": [],
   "source": [
    "# labelisation of the signals in 8 categories\n",
    "for i in range (2000):\n",
    "    if i < 250:\n",
    "        BDDytarget[i, 0] = 1\n",
    "    if  250 <=  i  < 500:\n",
    "        BDDytarget[i, 1] = 1\n",
    "    if  500 <=  i  < 750:\n",
    "        BDDytarget[i, 2] = 1\n",
    "    if  750 <=  i  < 1000:\n",
    "        BDDytarget[i, 3] = 1\n",
    "    if  1000 <=  i  < 1250:\n",
    "        BDDytarget[i, 4] = 1\n",
    "    if  1250 <=  i  < 1500:\n",
    "        BDDytarget[i, 5] = 1\n",
    "    if  1500 <=  i  < 1750:\n",
    "        BDDytarget[i, 6] = 1\n",
    "    if  1750 <=  i  < 2000:\n",
    "        BDDytarget[i, 7] = 1\n"
   ]
  },
  {
   "cell_type": "markdown",
   "metadata": {
    "papermill": {
     "duration": 0.03698,
     "end_time": "2020-10-20T17:32:26.176835",
     "exception": false,
     "start_time": "2020-10-20T17:32:26.139855",
     "status": "completed"
    },
    "tags": []
   },
   "source": [
    "# Data reshaping for NN compatibility"
   ]
  },
  {
   "cell_type": "code",
   "execution_count": 13,
   "metadata": {
    "execution": {
     "iopub.execute_input": "2020-10-20T17:32:26.262277Z",
     "iopub.status.busy": "2020-10-20T17:32:26.261096Z",
     "iopub.status.idle": "2020-10-20T17:32:26.265061Z",
     "shell.execute_reply": "2020-10-20T17:32:26.264277Z"
    },
    "papermill": {
     "duration": 0.049122,
     "end_time": "2020-10-20T17:32:26.265206",
     "exception": false,
     "start_time": "2020-10-20T17:32:26.216084",
     "status": "completed"
    },
    "tags": []
   },
   "outputs": [],
   "source": [
    "X, y = shape_data(DataInput)   # call of the reshape function defined before"
   ]
  },
  {
   "cell_type": "code",
   "execution_count": 14,
   "metadata": {
    "execution": {
     "iopub.execute_input": "2020-10-20T17:32:26.346645Z",
     "iopub.status.busy": "2020-10-20T17:32:26.345832Z",
     "iopub.status.idle": "2020-10-20T17:32:26.349865Z",
     "shell.execute_reply": "2020-10-20T17:32:26.349250Z"
    },
    "papermill": {
     "duration": 0.047915,
     "end_time": "2020-10-20T17:32:26.349995",
     "exception": false,
     "start_time": "2020-10-20T17:32:26.302080",
     "status": "completed"
    },
    "tags": []
   },
   "outputs": [],
   "source": [
    "#reshape the database to give it a NN compatible shape\n",
    "\n",
    "X = BDDtrain.reshape((2000, 10000, n_features)) #reshape pour avoir un format d'entrée de NN\n",
    "y = y.reshape(1,2)"
   ]
  },
  {
   "cell_type": "markdown",
   "metadata": {
    "papermill": {
     "duration": 0.036694,
     "end_time": "2020-10-20T17:32:26.424135",
     "exception": false,
     "start_time": "2020-10-20T17:32:26.387441",
     "status": "completed"
    },
    "tags": []
   },
   "source": [
    "# Neural Network / model creation with keras"
   ]
  },
  {
   "cell_type": "code",
   "execution_count": 15,
   "metadata": {
    "execution": {
     "iopub.execute_input": "2020-10-20T17:32:26.507823Z",
     "iopub.status.busy": "2020-10-20T17:32:26.506895Z",
     "iopub.status.idle": "2020-10-20T17:32:26.717156Z",
     "shell.execute_reply": "2020-10-20T17:32:26.716476Z"
    },
    "papermill": {
     "duration": 0.256227,
     "end_time": "2020-10-20T17:32:26.717330",
     "exception": false,
     "start_time": "2020-10-20T17:32:26.461103",
     "status": "completed"
    },
    "tags": []
   },
   "outputs": [],
   "source": [
    "# creation of the model and its structure\n",
    "model = Sequential()\n",
    "\n",
    "model.add(Dense(5, activation='relu',input_shape=(10000, 1)))       \n",
    "model.add(Dense(3))\n",
    "model.add(Dense(3))\n",
    "model.add(Flatten())\n",
    "model.add(Dense(8,activation = \"softmax\"))\n",
    "\n",
    "\n"
   ]
  },
  {
   "cell_type": "markdown",
   "metadata": {
    "papermill": {
     "duration": 0.037616,
     "end_time": "2020-10-20T17:32:26.792075",
     "exception": false,
     "start_time": "2020-10-20T17:32:26.754459",
     "status": "completed"
    },
    "tags": []
   },
   "source": [
    "# Visualisation of this NN architecture and its training + parameter choices"
   ]
  },
  {
   "cell_type": "markdown",
   "metadata": {
    "papermill": {
     "duration": 0.037274,
     "end_time": "2020-10-20T17:32:26.866513",
     "exception": false,
     "start_time": "2020-10-20T17:32:26.829239",
     "status": "completed"
    },
    "tags": []
   },
   "source": [
    "This function is used to show the parameters and architecture of the NN model you create"
   ]
  },
  {
   "cell_type": "code",
   "execution_count": 16,
   "metadata": {
    "execution": {
     "iopub.execute_input": "2020-10-20T17:32:26.949187Z",
     "iopub.status.busy": "2020-10-20T17:32:26.948330Z",
     "iopub.status.idle": "2020-10-20T17:32:26.954026Z",
     "shell.execute_reply": "2020-10-20T17:32:26.952503Z"
    },
    "papermill": {
     "duration": 0.050153,
     "end_time": "2020-10-20T17:32:26.954215",
     "exception": false,
     "start_time": "2020-10-20T17:32:26.904062",
     "status": "completed"
    },
    "tags": []
   },
   "outputs": [
    {
     "name": "stdout",
     "output_type": "stream",
     "text": [
      "Model: \"sequential\"\n",
      "_________________________________________________________________\n",
      "Layer (type)                 Output Shape              Param #   \n",
      "=================================================================\n",
      "dense (Dense)                (None, 10000, 5)          10        \n",
      "_________________________________________________________________\n",
      "dense_1 (Dense)              (None, 10000, 3)          18        \n",
      "_________________________________________________________________\n",
      "dense_2 (Dense)              (None, 10000, 3)          12        \n",
      "_________________________________________________________________\n",
      "flatten (Flatten)            (None, 30000)             0         \n",
      "_________________________________________________________________\n",
      "dense_3 (Dense)              (None, 8)                 240008    \n",
      "=================================================================\n",
      "Total params: 240,048\n",
      "Trainable params: 240,048\n",
      "Non-trainable params: 0\n",
      "_________________________________________________________________\n"
     ]
    }
   ],
   "source": [
    "model.summary()"
   ]
  },
  {
   "cell_type": "code",
   "execution_count": 17,
   "metadata": {
    "execution": {
     "iopub.execute_input": "2020-10-20T17:32:27.045220Z",
     "iopub.status.busy": "2020-10-20T17:32:27.040146Z",
     "iopub.status.idle": "2020-10-20T17:32:27.053215Z",
     "shell.execute_reply": "2020-10-20T17:32:27.052596Z"
    },
    "papermill": {
     "duration": 0.060965,
     "end_time": "2020-10-20T17:32:27.053350",
     "exception": false,
     "start_time": "2020-10-20T17:32:26.992385",
     "status": "completed"
    },
    "tags": []
   },
   "outputs": [],
   "source": [
    "#optimisation parameters\n",
    "model.compile(optimizer='adam', loss='binary_crossentropy',metrics = ['accuracy'])    "
   ]
  },
  {
   "cell_type": "code",
   "execution_count": 18,
   "metadata": {
    "execution": {
     "iopub.execute_input": "2020-10-20T17:32:27.138055Z",
     "iopub.status.busy": "2020-10-20T17:32:27.137295Z",
     "iopub.status.idle": "2020-10-20T17:32:52.335033Z",
     "shell.execute_reply": "2020-10-20T17:32:52.334097Z"
    },
    "papermill": {
     "duration": 25.243204,
     "end_time": "2020-10-20T17:32:52.335258",
     "exception": false,
     "start_time": "2020-10-20T17:32:27.092054",
     "status": "completed"
    },
    "tags": []
   },
   "outputs": [
    {
     "name": "stdout",
     "output_type": "stream",
     "text": [
      "Epoch 1/10\n",
      "63/63 [==============================] - 2s 37ms/step - loss: 0.6627 - accuracy: 0.5870\n",
      "Epoch 2/10\n",
      "63/63 [==============================] - 2s 37ms/step - loss: 0.5304 - accuracy: 0.7500\n",
      "Epoch 3/10\n",
      "63/63 [==============================] - 2s 39ms/step - loss: 0.5298 - accuracy: 0.7500\n",
      "Epoch 4/10\n",
      "63/63 [==============================] - 2s 37ms/step - loss: 0.5247 - accuracy: 0.7500\n",
      "Epoch 5/10\n",
      "63/63 [==============================] - 2s 37ms/step - loss: 0.5202 - accuracy: 0.7500\n",
      "Epoch 6/10\n",
      "63/63 [==============================] - 2s 37ms/step - loss: 0.5199 - accuracy: 0.7500\n",
      "Epoch 7/10\n",
      "63/63 [==============================] - 2s 36ms/step - loss: 0.5197 - accuracy: 0.7500\n",
      "Epoch 8/10\n",
      "63/63 [==============================] - 2s 37ms/step - loss: 0.5197 - accuracy: 0.7500\n",
      "Epoch 9/10\n",
      "63/63 [==============================] - 3s 40ms/step - loss: 0.5197 - accuracy: 0.7500\n",
      "Epoch 10/10\n",
      "63/63 [==============================] - 2s 38ms/step - loss: 0.5196 - accuracy: 0.7500\n"
     ]
    },
    {
     "data": {
      "text/plain": [
       "<tensorflow.python.keras.callbacks.History at 0x7fd6c44cbb10>"
      ]
     },
     "execution_count": 18,
     "metadata": {},
     "output_type": "execute_result"
    }
   ],
   "source": [
    "model.fit(X, BDDytarget, epochs=10, verbose=1)      "
   ]
  },
  {
   "cell_type": "markdown",
   "metadata": {
    "papermill": {
     "duration": 0.175689,
     "end_time": "2020-10-20T17:32:52.712805",
     "exception": false,
     "start_time": "2020-10-20T17:32:52.537116",
     "status": "completed"
    },
    "tags": []
   },
   "source": []
  },
  {
   "cell_type": "markdown",
   "metadata": {
    "papermill": {
     "duration": 0.184207,
     "end_time": "2020-10-20T17:32:53.071803",
     "exception": false,
     "start_time": "2020-10-20T17:32:52.887596",
     "status": "completed"
    },
    "tags": []
   },
   "source": []
  },
  {
   "cell_type": "markdown",
   "metadata": {
    "papermill": {
     "duration": 0.17712,
     "end_time": "2020-10-20T17:32:53.430122",
     "exception": false,
     "start_time": "2020-10-20T17:32:53.253002",
     "status": "completed"
    },
    "tags": []
   },
   "source": [
    "# Application on an example"
   ]
  },
  {
   "cell_type": "code",
   "execution_count": 19,
   "metadata": {
    "execution": {
     "iopub.execute_input": "2020-10-20T17:32:53.788577Z",
     "iopub.status.busy": "2020-10-20T17:32:53.787724Z",
     "iopub.status.idle": "2020-10-20T17:32:53.981039Z",
     "shell.execute_reply": "2020-10-20T17:32:53.980380Z"
    },
    "papermill": {
     "duration": 0.376396,
     "end_time": "2020-10-20T17:32:53.981192",
     "exception": false,
     "start_time": "2020-10-20T17:32:53.604796",
     "status": "completed"
    },
    "tags": []
   },
   "outputs": [
    {
     "data": {
      "text/plain": [
       "0.009669911"
      ]
     },
     "execution_count": 19,
     "metadata": {},
     "output_type": "execute_result"
    }
   ],
   "source": [
    "#Application of the trained NN\n",
    "\n",
    "listtemp =np.zeros([10000,1])\n",
    "\n",
    "\n",
    "#Reshape before prediction\n",
    "x_input = listtemp.reshape((1, 10000, n_features))     #reshape pour entrée en NN\n",
    "\n",
    "\n",
    "#Prediction of the kind(anomaly or no)\n",
    "prediction = model.predict(x_input, verbose=0)\n",
    "score = prediction[0,1]\n",
    "score"
   ]
  },
  {
   "cell_type": "markdown",
   "metadata": {
    "papermill": {
     "duration": 0.181469,
     "end_time": "2020-10-20T17:32:54.346216",
     "exception": false,
     "start_time": "2020-10-20T17:32:54.164747",
     "status": "completed"
    },
    "tags": []
   },
   "source": [
    "# Application of the trained NN on new signal to see if it classified it into the good category"
   ]
  },
  {
   "cell_type": "code",
   "execution_count": 20,
   "metadata": {
    "execution": {
     "iopub.execute_input": "2020-10-20T17:32:54.720446Z",
     "iopub.status.busy": "2020-10-20T17:32:54.712484Z",
     "iopub.status.idle": "2020-10-20T17:32:55.248047Z",
     "shell.execute_reply": "2020-10-20T17:32:55.247226Z"
    },
    "papermill": {
     "duration": 0.721938,
     "end_time": "2020-10-20T17:32:55.248197",
     "exception": false,
     "start_time": "2020-10-20T17:32:54.526259",
     "status": "completed"
    },
    "tags": []
   },
   "outputs": [
    {
     "name": "stdout",
     "output_type": "stream",
     "text": [
      "1/1 [==============================] - 0s 2ms/step\n",
      "[[2.63847973e-28 0.00000000e+00 9.97206032e-01 1.72885810e-03\n",
      "  1.28673163e-20 0.00000000e+00 2.00318323e-06 1.06301601e-03]\n",
      " [2.72786551e-28 0.00000000e+00 9.97235477e-01 1.66568474e-03\n",
      "  1.10559789e-20 0.00000000e+00 2.23819097e-06 1.09661219e-03]\n",
      " [2.85901628e-28 0.00000000e+00 9.97044504e-01 1.90652022e-03\n",
      "  1.11676200e-20 0.00000000e+00 2.19045296e-06 1.04684499e-03]\n",
      " [2.53408686e-28 0.00000000e+00 9.97671664e-01 1.53351261e-03\n",
      "  1.04340078e-20 0.00000000e+00 1.93553865e-06 7.92951963e-04]\n",
      " [2.52515488e-28 0.00000000e+00 9.97524679e-01 1.67023751e-03\n",
      "  9.97332068e-21 0.00000000e+00 2.04419121e-06 8.03090225e-04]\n",
      " [2.69228491e-28 0.00000000e+00 9.97327685e-01 1.62479968e-03\n",
      "  1.21258716e-20 0.00000000e+00 2.13035264e-06 1.04530854e-03]\n",
      " [2.84249252e-28 0.00000000e+00 9.97183502e-01 1.72098237e-03\n",
      "  1.21562592e-20 0.00000000e+00 2.23865914e-06 1.09328888e-03]\n",
      " [2.82802710e-28 0.00000000e+00 9.96782422e-01 2.09224271e-03\n",
      "  1.04148905e-20 0.00000000e+00 2.72754596e-06 1.12260005e-03]\n",
      " [2.47715637e-28 0.00000000e+00 9.97483432e-01 1.67156744e-03\n",
      "  1.08309422e-20 0.00000000e+00 2.07815469e-06 8.42954032e-04]\n",
      " [2.69494607e-28 0.00000000e+00 9.97628272e-01 1.46512059e-03\n",
      "  1.19391073e-20 0.00000000e+00 2.31058880e-06 9.04373417e-04]]\n"
     ]
    },
    {
     "data": {
      "image/png": "[encoded data removed]",
      "text/plain": [
       "<Figure size 432x288 with 1 Axes>"
      ]
     },
     "metadata": {
      "needs_background": "light"
     },
     "output_type": "display_data"
    },
    {
     "data": {
      "image/png": "[encoded data removed]",
      "text/plain": [
       "<Figure size 432x288 with 1 Axes>"
      ]
     },
     "metadata": {
      "needs_background": "light"
     },
     "output_type": "display_data"
    }
   ],
   "source": [
    "#UTilisation of a test database\n",
    "\n",
    "BDDtest=np.zeros([10,10000])            # 10 for the number of signal we test\n",
    "                                        \n",
    "predictiontest = np.zeros([1000,2])\n",
    "for i in range(10):               #loop to create one kind of signal\n",
    "    for j in range (10000):\n",
    "        BDDtest[i,j] =  2 * DataInput[j] + random.random()\n",
    "        \n",
    "\n",
    "\n",
    "\n",
    "BDDtest = BDDtest.reshape((10, 10000, n_features))     #reshape to get to the NN\n",
    "\n",
    "#Test and visualisation of the results\n",
    "predictiontest= model.predict(BDDtest, verbose=1)\n",
    "print(predictiontest)\n",
    "\n",
    "#Hist plot and visualisation of the tested signal\n",
    "plt.bar(range(8), 100*predictiontest[1], color=\"#3DBA38\")\n",
    "plt.show()\n",
    "plt.plot(BDDtest[1,:])\n",
    "plt.show()\n"
   ]
  },
  {
   "cell_type": "markdown",
   "metadata": {
    "papermill": {
     "duration": 0.177249,
     "end_time": "2020-10-20T17:32:55.604411",
     "exception": false,
     "start_time": "2020-10-20T17:32:55.427162",
     "status": "completed"
    },
    "tags": []
   },
   "source": [
    "# Conclusion"
   ]
  },
  {
   "cell_type": "markdown",
   "metadata": {
    "papermill": {
     "duration": 0.178263,
     "end_time": "2020-10-20T17:32:55.965962",
     "exception": false,
     "start_time": "2020-10-20T17:32:55.787699",
     "status": "completed"
    },
    "tags": []
   },
   "source": [
    "## The NN is able to classify the signal in the good category; of course the accuracy can be optimised but it is not the subject of this notebook. \n",
    "## It is possible to change the kind of signal we want to test ( line 6 in the last cell) to test of the algorithm is able to classify any kind of signal in the good category"
   ]
  },
  {
   "cell_type": "markdown",
   "metadata": {
    "papermill": {
     "duration": 0.192097,
     "end_time": "2020-10-20T17:32:56.337348",
     "exception": false,
     "start_time": "2020-10-20T17:32:56.145251",
     "status": "completed"
    },
    "tags": []
   },
   "source": [
    "## This approach could allow you to classify signals, times series into categories or to use it to detect anormal times series - Anomaly detection"
   ]
  }
 ],
 "metadata": {
  "kernelspec": {
   "display_name": "Python 3",
   "language": "python",
   "name": "python3"
  },
  "language_info": {
   "codemirror_mode": {
    "name": "ipython",
    "version": 3
   },
   "file_extension": ".py",
   "mimetype": "text/x-python",
   "name": "python",
   "nbconvert_exporter": "python",
   "pygments_lexer": "ipython3",
   "version": "3.7.6"
  },
  "papermill": {
   "duration": 62.715602,
   "end_time": "2020-10-20T17:32:56.628397",
   "environment_variables": {},
   "exception": null,
   "input_path": "__notebook__.ipynb",
   "output_path": "__notebook__.ipynb",
   "parameters": {},
   "start_time": "2020-10-20T17:31:53.912795",
   "version": "2.1.0"
  }
 },
 "nbformat": 4,
 "nbformat_minor": 4
}
